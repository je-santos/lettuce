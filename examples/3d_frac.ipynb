{
 "cells": [
  {
   "cell_type": "markdown",
   "id": "33addcd4",
   "metadata": {},
   "source": [
    "# Implementation of a flow through a tube\n",
    "Javier E. Santos\n",
    "\n",
    "\n",
    "Description: This notebook calculates the steady-state single-phase laminar flow and the permeability of tube"
   ]
  },
  {
   "cell_type": "code",
   "execution_count": 13,
   "id": "recent-hardwood",
   "metadata": {},
   "outputs": [
    {
     "name": "stdout",
     "output_type": "stream",
     "text": [
      "/Users/jesantos/src/lettuce\n"
     ]
    }
   ],
   "source": [
    "cd .."
   ]
  },
  {
   "cell_type": "code",
   "execution_count": 14,
   "id": "cc4dc7ad",
   "metadata": {},
   "outputs": [],
   "source": [
    "import numpy as np\n",
    "from matplotlib import pyplot as plt\n",
    "import torch\n",
    "import lettuce as lt"
   ]
  },
  {
   "cell_type": "markdown",
   "id": "3988ef17",
   "metadata": {},
   "source": [
    "## Define Flow and Boundary Condition"
   ]
  },
  {
   "cell_type": "code",
   "execution_count": 95,
   "id": "381af06d",
   "metadata": {},
   "outputs": [],
   "source": [
    "class PeriodicPressureBC:\n",
    "    \"\"\"According to Ehsan Evati: 'High performance simulation of fluid flow in porous media...' \n",
    "    \"\"\"\n",
    "    def __init__(self, lattice, delta_rho):\n",
    "        self.lattice   = lattice\n",
    "        self.delta_rho = delta_rho\n",
    "        \n",
    "    def __call__(self, f):\n",
    "        f[[1,5,8],:,:, 0] = f[[1,5,8],:,:,0 ] + self.lattice.w[[1,5,8],None] * self.delta_rho\n",
    "        f[[3,6,7],:,:,-1] = f[[3,6,7],:,:,-1] - self.lattice.w[[3,6,7],None] * self.delta_rho\n",
    "        return f"
   ]
  },
  {
   "cell_type": "code",
   "execution_count": 96,
   "id": "c3e290ec",
   "metadata": {},
   "outputs": [
    {
     "data": {
      "text/plain": [
       "torch.Size([19])"
      ]
     },
     "execution_count": 96,
     "metadata": {},
     "output_type": "execute_result"
    }
   ],
   "source": [
    "lattice.w.shape"
   ]
  },
  {
   "cell_type": "code",
   "execution_count": 97,
   "id": "8d15f368",
   "metadata": {},
   "outputs": [],
   "source": [
    "class PorousMedium3D(lt.Obstacle3D):\n",
    "    def __init__(\n",
    "            self,\n",
    "            pressure_difference, \n",
    "            resolution_x,\n",
    "            resolution_y,\n",
    "            resolution_z,\n",
    "            reynolds_number,\n",
    "            mach_number,\n",
    "            lattice,\n",
    "            char_length_lu\n",
    "    ):\n",
    "        super().__init__(\n",
    "            resolution_x,\n",
    "            resolution_y,\n",
    "            resolution_z,\n",
    "            reynolds_number,\n",
    "            mach_number,\n",
    "            lattice,\n",
    "            char_length_lu\n",
    "        )\n",
    "        self.delta_rho = pressure_difference\n",
    "    \n",
    "    #@property\n",
    "    #def delta_rho(self):\n",
    "    #    rho_in = self.units.convert_pressure_pu_to_density_lu(self.pressure_difference/2)\n",
    "    #    rho_out = self.units.convert_pressure_pu_to_density_lu(-self.pressure_difference/2)\n",
    "    #    return rho_in - rho_out\n",
    "    \n",
    "    @property\n",
    "    def boundaries(self):\n",
    "        return [\n",
    "            # left/right\n",
    "            PeriodicPressureBC(self.units.lattice, self.delta_rho),\n",
    "            # bounce back periodic medium\n",
    "            lt.BounceBackBoundary(self.mask, self.units.lattice)\n",
    "            # periodic in y direction\n",
    "        ]"
   ]
  },
  {
   "cell_type": "code",
   "execution_count": null,
   "id": "dce84b15",
   "metadata": {},
   "outputs": [],
   "source": []
  },
  {
   "cell_type": "markdown",
   "id": "23823cf0",
   "metadata": {},
   "source": [
    "## Setting up domain and flow parameters"
   ]
  },
  {
   "cell_type": "code",
   "execution_count": 98,
   "id": "phantom-sphere",
   "metadata": {},
   "outputs": [],
   "source": [
    "# user-defined parameters\n",
    "\n",
    "nx = 256 # domain length in x-dir\n",
    "ny = 256 # domain length in y-dir\n",
    "nz = 256 # domain length in z-dir\n",
    "\n",
    "n_buffer = 10 # number of buffer layers\n",
    "it_check = 1000 # check for convergence every n-iterations \n",
    "it_max   = 1e7 # break after max its its reached\n",
    "epsilon  = 0.01 # break after the diff between its it's less than e %\n",
    "\n",
    "delta_rho_lu = 0.00005 # my code uses 0.0005\n",
    "resolution   = 1e-6 # [lu/pu] microns\n",
    "\n",
    "device = device = 'cuda:0' if torch.cuda.is_available() else 'cpu'\n",
    "dtype  = torch.float64 # torch types: torch.float64 is stable and accurate"
   ]
  },
  {
   "cell_type": "code",
   "execution_count": 99,
   "id": "earned-network",
   "metadata": {},
   "outputs": [],
   "source": [
    "lattice = lt.Lattice(lt.D3Q19, device, dtype)"
   ]
  },
  {
   "cell_type": "code",
   "execution_count": 100,
   "id": "029855d0",
   "metadata": {},
   "outputs": [
    {
     "data": {
      "text/plain": [
       "lettuce.stencils.D3Q19"
      ]
     },
     "execution_count": 100,
     "metadata": {},
     "output_type": "execute_result"
    }
   ],
   "source": [
    "lattice.stencil"
   ]
  },
  {
   "cell_type": "code",
   "execution_count": 101,
   "id": "8b4de7ef",
   "metadata": {},
   "outputs": [],
   "source": [
    "Ma    = 0.0001 # I set this arbitrarily\n",
    "u_lbm = lattice.cs*Ma\n",
    "\n",
    "omega = 1.0\n",
    "nu    = (1/omega - 0.5)/(1/lattice.cs)**2\n",
    "Re    = u_lbm*nx/nu\n",
    "\n",
    "\n",
    "flow = PorousMedium3D(\n",
    "    delta_rho_lu, ny, nx,nz, reynolds_number=Re, mach_number=Ma, \n",
    "    lattice=lattice, char_length_lu=nx\n",
    ")"
   ]
  },
  {
   "cell_type": "code",
   "execution_count": null,
   "id": "71f8e56f",
   "metadata": {},
   "outputs": [],
   "source": []
  },
  {
   "cell_type": "code",
   "execution_count": 102,
   "id": "908b762a",
   "metadata": {},
   "outputs": [],
   "source": [
    "from glob import glob as gb\n",
    "from hdf5storage import loadmat"
   ]
  },
  {
   "cell_type": "code",
   "execution_count": 103,
   "id": "e0d7bb4a",
   "metadata": {},
   "outputs": [],
   "source": [
    "rock = loadmat(gb('examples/*.mat')[0])['bin']"
   ]
  },
  {
   "cell_type": "code",
   "execution_count": null,
   "id": "ebe6bf07",
   "metadata": {},
   "outputs": [],
   "source": []
  },
  {
   "cell_type": "code",
   "execution_count": 104,
   "id": "f3bf811a",
   "metadata": {},
   "outputs": [
    {
     "data": {
      "text/plain": [
       "<matplotlib.image.AxesImage at 0x2968ba8b0>"
      ]
     },
     "execution_count": 104,
     "metadata": {},
     "output_type": "execute_result"
    },
    {
     "data": {
      "image/png": "[encoded data removed]",
      "text/plain": [
       "<Figure size 432x288 with 1 Axes>"
      ]
     },
     "metadata": {
      "needs_background": "light"
     },
     "output_type": "display_data"
    }
   ],
   "source": [
    "plt.imshow(rock[:,:,100])"
   ]
  },
  {
   "cell_type": "code",
   "execution_count": 105,
   "id": "16f1552d",
   "metadata": {},
   "outputs": [
    {
     "data": {
      "text/plain": [
       "(256, 256, 256)"
      ]
     },
     "execution_count": 105,
     "metadata": {},
     "output_type": "execute_result"
    }
   ],
   "source": [
    "flow.mask.shape"
   ]
  },
  {
   "cell_type": "code",
   "execution_count": 106,
   "id": "spare-preliminary",
   "metadata": {},
   "outputs": [],
   "source": [
    "# make a tube\n",
    "flow.mask = rock\n",
    "#flow.mask[ :, ny//2-10:ny//2+10] = 0\n",
    "    \n",
    "# make a buffer region that should have constant pressure\n",
    "flow.mask[:,:,:n_buffer] = 0\n",
    "flow.mask[:,:, -n_buffer:] = 0\n",
    "\n",
    "# calculate porosity\n",
    "phi = 1-np.sum(flow.mask)/(nx*ny*nz)"
   ]
  },
  {
   "cell_type": "code",
   "execution_count": 107,
   "id": "49276bde",
   "metadata": {},
   "outputs": [
    {
     "data": {
      "image/png": "[encoded data removed]",
      "text/plain": [
       "<Figure size 432x288 with 1 Axes>"
      ]
     },
     "metadata": {
      "needs_background": "light"
     },
     "output_type": "display_data"
    }
   ],
   "source": [
    "plt.imshow(flow.mask[:,100,:], origin=\"lower\", cmap='gray_r')\n",
    "plt.title(f'The porosity of the domain is {phi*100:2.1f} %');"
   ]
  },
  {
   "cell_type": "markdown",
   "id": "59319068",
   "metadata": {},
   "source": [
    "## Run Simulation"
   ]
  },
  {
   "cell_type": "code",
   "execution_count": 108,
   "id": "1a95d089",
   "metadata": {},
   "outputs": [],
   "source": [
    "collision  = lt.BGKCollision(lattice, tau=flow.units.relaxation_parameter_lu)\n",
    "#collision  = lt.RegularizedCollision(lattice, tau=flow.units.relaxation_parameter_lu)\n",
    "streaming  = lt.StandardStreaming(lattice)\n",
    "simulation = lt.Simulation(lattice=lattice, flow=flow, streaming=streaming, collision=collision)"
   ]
  },
  {
   "cell_type": "code",
   "execution_count": 109,
   "id": "d80f0401",
   "metadata": {},
   "outputs": [
    {
     "ename": "RuntimeError",
     "evalue": "The size of tensor a (256) must match the size of tensor b (3) at non-singleton dimension 1",
     "output_type": "error",
     "traceback": [
      "\u001b[0;31m---------------------------------------------------------------------------\u001b[0m",
      "\u001b[0;31mRuntimeError\u001b[0m                              Traceback (most recent call last)",
      "\u001b[0;32m/var/folders/yk/qkr3p0fs6sz7d42tths52cs00000gn/T/ipykernel_86508/2074306009.py\u001b[0m in \u001b[0;36m<module>\u001b[0;34m\u001b[0m\n\u001b[1;32m      1\u001b[0m \u001b[0mu_t\u001b[0m \u001b[0;34m=\u001b[0m \u001b[0;34m[\u001b[0m\u001b[0mnp\u001b[0m\u001b[0;34m.\u001b[0m\u001b[0mInf\u001b[0m\u001b[0;34m]\u001b[0m \u001b[0;31m# save it info for plotting\u001b[0m\u001b[0;34m\u001b[0m\u001b[0;34m\u001b[0m\u001b[0m\n\u001b[1;32m      2\u001b[0m \u001b[0;32mfor\u001b[0m \u001b[0mi\u001b[0m \u001b[0;32min\u001b[0m \u001b[0mrange\u001b[0m\u001b[0;34m(\u001b[0m\u001b[0;36m1\u001b[0m\u001b[0;34m,\u001b[0m\u001b[0mint\u001b[0m\u001b[0;34m(\u001b[0m\u001b[0mit_max\u001b[0m\u001b[0;34m//\u001b[0m\u001b[0mit_check\u001b[0m\u001b[0;34m)\u001b[0m\u001b[0;34m)\u001b[0m\u001b[0;34m:\u001b[0m\u001b[0;34m\u001b[0m\u001b[0;34m\u001b[0m\u001b[0m\n\u001b[0;32m----> 3\u001b[0;31m     \u001b[0msimulation\u001b[0m\u001b[0;34m.\u001b[0m\u001b[0mstep\u001b[0m\u001b[0;34m(\u001b[0m\u001b[0mit_check\u001b[0m\u001b[0;34m)\u001b[0m\u001b[0;34m\u001b[0m\u001b[0;34m\u001b[0m\u001b[0m\n\u001b[0m\u001b[1;32m      4\u001b[0m     \u001b[0mu_t\u001b[0m\u001b[0;34m.\u001b[0m\u001b[0mappend\u001b[0m\u001b[0;34m(\u001b[0m\u001b[0mlattice\u001b[0m\u001b[0;34m.\u001b[0m\u001b[0mu\u001b[0m\u001b[0;34m(\u001b[0m\u001b[0msimulation\u001b[0m\u001b[0;34m.\u001b[0m\u001b[0mf\u001b[0m\u001b[0;34m)\u001b[0m\u001b[0;34m.\u001b[0m\u001b[0mmean\u001b[0m\u001b[0;34m(\u001b[0m\u001b[0;34m)\u001b[0m\u001b[0;34m)\u001b[0m\u001b[0;34m\u001b[0m\u001b[0;34m\u001b[0m\u001b[0m\n\u001b[1;32m      5\u001b[0m     \u001b[0mrel_change\u001b[0m \u001b[0;34m=\u001b[0m \u001b[0;34m(\u001b[0m\u001b[0;34m(\u001b[0m\u001b[0mu_t\u001b[0m\u001b[0;34m[\u001b[0m\u001b[0;34m-\u001b[0m\u001b[0;36m1\u001b[0m\u001b[0;34m]\u001b[0m\u001b[0;34m-\u001b[0m\u001b[0mu_t\u001b[0m\u001b[0;34m[\u001b[0m\u001b[0;34m-\u001b[0m\u001b[0;36m2\u001b[0m\u001b[0;34m]\u001b[0m\u001b[0;34m)\u001b[0m\u001b[0;34m/\u001b[0m\u001b[0mu_t\u001b[0m\u001b[0;34m[\u001b[0m\u001b[0;34m-\u001b[0m\u001b[0;36m1\u001b[0m\u001b[0;34m]\u001b[0m\u001b[0;34m*\u001b[0m\u001b[0;36m100\u001b[0m\u001b[0;34m)\u001b[0m\u001b[0;34m.\u001b[0m\u001b[0mabs\u001b[0m\u001b[0;34m(\u001b[0m\u001b[0;34m)\u001b[0m\u001b[0;34m\u001b[0m\u001b[0;34m\u001b[0m\u001b[0m\n",
      "\u001b[0;32m~/src/lettuce/lettuce/simulation.py\u001b[0m in \u001b[0;36mstep\u001b[0;34m(self, num_steps)\u001b[0m\n\u001b[1;32m     74\u001b[0m             \u001b[0mself\u001b[0m\u001b[0;34m.\u001b[0m\u001b[0mf\u001b[0m \u001b[0;34m=\u001b[0m \u001b[0mtorch\u001b[0m\u001b[0;34m.\u001b[0m\u001b[0mwhere\u001b[0m\u001b[0;34m(\u001b[0m\u001b[0mself\u001b[0m\u001b[0;34m.\u001b[0m\u001b[0mno_collision_mask\u001b[0m\u001b[0;34m,\u001b[0m \u001b[0mself\u001b[0m\u001b[0;34m.\u001b[0m\u001b[0mf\u001b[0m\u001b[0;34m,\u001b[0m \u001b[0mself\u001b[0m\u001b[0;34m.\u001b[0m\u001b[0mcollision\u001b[0m\u001b[0;34m(\u001b[0m\u001b[0mself\u001b[0m\u001b[0;34m.\u001b[0m\u001b[0mf\u001b[0m\u001b[0;34m)\u001b[0m\u001b[0;34m)\u001b[0m\u001b[0;34m\u001b[0m\u001b[0;34m\u001b[0m\u001b[0m\n\u001b[1;32m     75\u001b[0m             \u001b[0;32mfor\u001b[0m \u001b[0mboundary\u001b[0m \u001b[0;32min\u001b[0m \u001b[0mself\u001b[0m\u001b[0;34m.\u001b[0m\u001b[0m_boundaries\u001b[0m\u001b[0;34m:\u001b[0m\u001b[0;34m\u001b[0m\u001b[0;34m\u001b[0m\u001b[0m\n\u001b[0;32m---> 76\u001b[0;31m                 \u001b[0mself\u001b[0m\u001b[0;34m.\u001b[0m\u001b[0mf\u001b[0m \u001b[0;34m=\u001b[0m \u001b[0mboundary\u001b[0m\u001b[0;34m(\u001b[0m\u001b[0mself\u001b[0m\u001b[0;34m.\u001b[0m\u001b[0mf\u001b[0m\u001b[0;34m)\u001b[0m\u001b[0;34m\u001b[0m\u001b[0;34m\u001b[0m\u001b[0m\n\u001b[0m\u001b[1;32m     77\u001b[0m             \u001b[0mself\u001b[0m\u001b[0;34m.\u001b[0m\u001b[0m_report\u001b[0m\u001b[0;34m(\u001b[0m\u001b[0;34m)\u001b[0m\u001b[0;34m\u001b[0m\u001b[0;34m\u001b[0m\u001b[0m\n\u001b[1;32m     78\u001b[0m         \u001b[0mend\u001b[0m \u001b[0;34m=\u001b[0m \u001b[0mtimer\u001b[0m\u001b[0;34m(\u001b[0m\u001b[0;34m)\u001b[0m\u001b[0;34m\u001b[0m\u001b[0;34m\u001b[0m\u001b[0m\n",
      "\u001b[0;32m/var/folders/yk/qkr3p0fs6sz7d42tths52cs00000gn/T/ipykernel_86508/3530826650.py\u001b[0m in \u001b[0;36m__call__\u001b[0;34m(self, f)\u001b[0m\n\u001b[1;32m      7\u001b[0m \u001b[0;34m\u001b[0m\u001b[0m\n\u001b[1;32m      8\u001b[0m     \u001b[0;32mdef\u001b[0m \u001b[0m__call__\u001b[0m\u001b[0;34m(\u001b[0m\u001b[0mself\u001b[0m\u001b[0;34m,\u001b[0m \u001b[0mf\u001b[0m\u001b[0;34m)\u001b[0m\u001b[0;34m:\u001b[0m\u001b[0;34m\u001b[0m\u001b[0;34m\u001b[0m\u001b[0m\n\u001b[0;32m----> 9\u001b[0;31m         \u001b[0mf\u001b[0m\u001b[0;34m[\u001b[0m\u001b[0;34m[\u001b[0m\u001b[0;36m1\u001b[0m\u001b[0;34m,\u001b[0m\u001b[0;36m5\u001b[0m\u001b[0;34m,\u001b[0m\u001b[0;36m8\u001b[0m\u001b[0;34m]\u001b[0m\u001b[0;34m,\u001b[0m\u001b[0;34m:\u001b[0m\u001b[0;34m,\u001b[0m\u001b[0;34m:\u001b[0m\u001b[0;34m,\u001b[0m\u001b[0;36m0\u001b[0m \u001b[0;34m]\u001b[0m \u001b[0;34m=\u001b[0m \u001b[0mf\u001b[0m\u001b[0;34m[\u001b[0m\u001b[0;34m[\u001b[0m\u001b[0;36m1\u001b[0m\u001b[0;34m,\u001b[0m\u001b[0;36m5\u001b[0m\u001b[0;34m,\u001b[0m\u001b[0;36m8\u001b[0m\u001b[0;34m]\u001b[0m\u001b[0;34m,\u001b[0m\u001b[0;34m:\u001b[0m\u001b[0;34m,\u001b[0m\u001b[0;34m:\u001b[0m\u001b[0;34m,\u001b[0m\u001b[0;36m0\u001b[0m \u001b[0;34m]\u001b[0m \u001b[0;34m+\u001b[0m \u001b[0mself\u001b[0m\u001b[0;34m.\u001b[0m\u001b[0mlattice\u001b[0m\u001b[0;34m.\u001b[0m\u001b[0mw\u001b[0m\u001b[0;34m[\u001b[0m\u001b[0;34m[\u001b[0m\u001b[0;36m1\u001b[0m\u001b[0;34m,\u001b[0m\u001b[0;36m5\u001b[0m\u001b[0;34m,\u001b[0m\u001b[0;36m8\u001b[0m\u001b[0;34m]\u001b[0m\u001b[0;34m,\u001b[0m\u001b[0;32mNone\u001b[0m\u001b[0;34m]\u001b[0m \u001b[0;34m*\u001b[0m \u001b[0mself\u001b[0m\u001b[0;34m.\u001b[0m\u001b[0mdelta_rho\u001b[0m\u001b[0;34m\u001b[0m\u001b[0;34m\u001b[0m\u001b[0m\n\u001b[0m\u001b[1;32m     10\u001b[0m         \u001b[0mf\u001b[0m\u001b[0;34m[\u001b[0m\u001b[0;34m[\u001b[0m\u001b[0;36m3\u001b[0m\u001b[0;34m,\u001b[0m\u001b[0;36m6\u001b[0m\u001b[0;34m,\u001b[0m\u001b[0;36m7\u001b[0m\u001b[0;34m]\u001b[0m\u001b[0;34m,\u001b[0m\u001b[0;34m:\u001b[0m\u001b[0;34m,\u001b[0m\u001b[0;34m:\u001b[0m\u001b[0;34m,\u001b[0m\u001b[0;34m-\u001b[0m\u001b[0;36m1\u001b[0m\u001b[0;34m]\u001b[0m \u001b[0;34m=\u001b[0m \u001b[0mf\u001b[0m\u001b[0;34m[\u001b[0m\u001b[0;34m[\u001b[0m\u001b[0;36m3\u001b[0m\u001b[0;34m,\u001b[0m\u001b[0;36m6\u001b[0m\u001b[0;34m,\u001b[0m\u001b[0;36m7\u001b[0m\u001b[0;34m]\u001b[0m\u001b[0;34m,\u001b[0m\u001b[0;34m:\u001b[0m\u001b[0;34m,\u001b[0m\u001b[0;34m:\u001b[0m\u001b[0;34m,\u001b[0m\u001b[0;34m-\u001b[0m\u001b[0;36m1\u001b[0m\u001b[0;34m]\u001b[0m \u001b[0;34m-\u001b[0m \u001b[0mself\u001b[0m\u001b[0;34m.\u001b[0m\u001b[0mlattice\u001b[0m\u001b[0;34m.\u001b[0m\u001b[0mw\u001b[0m\u001b[0;34m[\u001b[0m\u001b[0;34m[\u001b[0m\u001b[0;36m3\u001b[0m\u001b[0;34m,\u001b[0m\u001b[0;36m6\u001b[0m\u001b[0;34m,\u001b[0m\u001b[0;36m7\u001b[0m\u001b[0;34m]\u001b[0m\u001b[0;34m,\u001b[0m\u001b[0;32mNone\u001b[0m\u001b[0;34m]\u001b[0m \u001b[0;34m*\u001b[0m \u001b[0mself\u001b[0m\u001b[0;34m.\u001b[0m\u001b[0mdelta_rho\u001b[0m\u001b[0;34m\u001b[0m\u001b[0;34m\u001b[0m\u001b[0m\n\u001b[1;32m     11\u001b[0m         \u001b[0;32mreturn\u001b[0m \u001b[0mf\u001b[0m\u001b[0;34m\u001b[0m\u001b[0;34m\u001b[0m\u001b[0m\n",
      "\u001b[0;31mRuntimeError\u001b[0m: The size of tensor a (256) must match the size of tensor b (3) at non-singleton dimension 1"
     ]
    }
   ],
   "source": [
    "u_t = [np.Inf] # save it info for plotting\n",
    "for i in range(1,int(it_max//it_check)):   \n",
    "    simulation.step(it_check)\n",
    "    u_t.append(lattice.u(simulation.f).mean()) \n",
    "    rel_change = ((u_t[-1]-u_t[-2])/u_t[-1]*100).abs() \n",
    "    print(f'it {i*it_check} {u_t[-1]} the relative change in mean vel is {rel_change} %')\n",
    "    if rel_change < epsilon*0.1:\n",
    "        break"
   ]
  },
  {
   "cell_type": "code",
   "execution_count": null,
   "id": "touched-watershed",
   "metadata": {},
   "outputs": [],
   "source": [
    "u_t = [x.cpu().numpy() for x in u_t[1:]]\n",
    "plt.plot(np.log10(np.abs(u_t)))\n",
    "plt.xlabel(f'{it_check} iterations')\n",
    "plt.ylabel(f'mean log10(|velocity|) [lus]')"
   ]
  },
  {
   "cell_type": "code",
   "execution_count": null,
   "id": "63df80e6",
   "metadata": {},
   "outputs": [],
   "source": [
    "u = lattice.u(simulation.f)\n",
    "k = nu*u.mean()/(delta_rho_lu/nx)*resolution**2\n",
    "rho = lattice.rho(simulation.f)\n",
    "u = u.cpu().detach().numpy()\n",
    "p = flow.units.convert_density_lu_to_pressure_pu(rho).cpu().detach().numpy()\n",
    "unorm = np.linalg.norm(u, axis=0)\n",
    "\n",
    "# Plot without outliers due to bounce-back contacts\n",
    "fig, axes = plt.subplots(1,4, figsize=(15,4), dpi=300)\n",
    "fig.tight_layout()\n",
    "axes[0].set_title(\"Pressure\")\n",
    "axes[0].imshow(p[0].transpose(), origin=\"lower\", )#vmin=p[0,ny-1,0], vmax=p[0].mean(axis=-1).max())\n",
    "axes[1].set_title(\"Velocity\")\n",
    "axes[1].imshow(unorm.transpose(), origin=\"lower\", cmap='inferno',\n",
    "               #vmin=np.percentile(unorm.flatten(),1),\n",
    "               #vmax=np.percentile(unorm.flatten(),95)\n",
    "              )\n",
    "axes[2].set_title(\"Mean fluid pressure along x\")\n",
    "axes[2].plot((p[0].sum(axis=-1)/(np.logical_not(flow.mask).sum(axis=-1)))[n_buffer+1:-n_buffer-1])\n",
    "axes[3].set_title(\"Mean fluid velocity along x\")\n",
    "layers = 8\n",
    "axes[3].plot(u[0].mean(axis=1)[n_buffer+layers:-n_buffer-layers]);\n",
    "\n",
    "#                                                                                               This is weird :("
   ]
  },
  {
   "cell_type": "code",
   "execution_count": null,
   "id": "prepared-tolerance",
   "metadata": {},
   "outputs": [],
   "source": [
    "#(.000266-.000278)/.000266*100\n",
    "(2.1532-2.1544)/2.1532*100"
   ]
  },
  {
   "cell_type": "code",
   "execution_count": null,
   "id": "9d50fe55",
   "metadata": {},
   "outputs": [],
   "source": [
    "u.shape"
   ]
  },
  {
   "cell_type": "code",
   "execution_count": null,
   "id": "28a44d0d",
   "metadata": {},
   "outputs": [],
   "source": [
    "#for i in range(20,100):\n",
    "plt.plot(u[0,:,250][20:-20].flatten())"
   ]
  },
  {
   "cell_type": "code",
   "execution_count": null,
   "id": "remarkable-merchandise",
   "metadata": {},
   "outputs": [],
   "source": [
    "print(f'Porosity = {phi*100} % and Permeability = {k} [m^2]')"
   ]
  },
  {
   "cell_type": "code",
   "execution_count": null,
   "id": "1472d61f",
   "metadata": {},
   "outputs": [],
   "source": []
  },
  {
   "cell_type": "code",
   "execution_count": null,
   "id": "f11228e6",
   "metadata": {},
   "outputs": [],
   "source": []
  },
  {
   "cell_type": "code",
   "execution_count": null,
   "id": "503bf958",
   "metadata": {},
   "outputs": [],
   "source": []
  },
  {
   "cell_type": "code",
   "execution_count": null,
   "id": "043b53ca",
   "metadata": {},
   "outputs": [],
   "source": []
  }
 ],
 "metadata": {
  "kernelspec": {
   "display_name": "Python 3 (ipykernel)",
   "language": "python",
   "name": "python3"
  },
  "language_info": {
   "codemirror_mode": {
    "name": "ipython",
    "version": 3
   },
   "file_extension": ".py",
   "mimetype": "text/x-python",
   "name": "python",
   "nbconvert_exporter": "python",
   "pygments_lexer": "ipython3",
   "version": "3.8.12"
  }
 },
 "nbformat": 4,
 "nbformat_minor": 5
}
